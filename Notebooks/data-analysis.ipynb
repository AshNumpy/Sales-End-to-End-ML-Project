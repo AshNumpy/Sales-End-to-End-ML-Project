{
 "cells": [
  {
   "cell_type": "markdown",
   "metadata": {},
   "source": [
    "## Yol Haritası: Satış Verilerinin Analizi\n",
    "\n",
    "Veri analizi görevini başarılı bir şekilde tamamlamak için adım adım bir yol haritası oluşturuyorum. Bu yol haritası, verilerin incelenmesi, analiz yöntemlerinin belirlenmesi, satış trendlerinin analizi ve anlamlı ilişkilerin bulunması gibi görevlerin detaylarını içerecektir.\n",
    "\n",
    "### Adım 1: Verilerin İncelenmesi\n",
    "- **Amaç**: Verilerin genel yapısını ve özelliklerini anlamak.\n",
    "- **Yapılacaklar**:\n",
    "  - **Veri Keşfi (Exploratory Data Analysis - EDA)**:\n",
    "    - Tabloların ve sütunların incelenmesi.\n",
    "    - Temel istatistiklerin çıkarılması (ortalama, medyan, standart sapma vb.).\n",
    "    - Kategorik değişkenlerin dağılımlarının incelenmesi.\n",
    "    - Sayısal değişkenlerin dağılımlarının incelenmesi.\n",
    "    - Eksik veri ve aykırı değerlerin tespiti.\n",
    "  - **Sorguların Yazılması**:\n",
    "    - Örnek veri çekmek için SQL sorguları yazma.\n",
    "    - Veri örneklerini inceleyerek verinin yapısını anlama.\n",
    "\n",
    "### Adım 2: Analiz Yöntemlerinin Belirlenmesi\n",
    "- **Amaç**: Hangi analiz yöntemlerinin kullanılacağına karar vermek.\n",
    "- **Yapılacaklar**:\n",
    "  - **Hedeflerin Belirlenmesi**:\n",
    "    - İş sorularını ve hedefleri netleştirme (Örneğin, satış trendlerini belirleme, müşteri segmentasyon analizi vb.).\n",
    "  - **Analiz Yöntemleri**:\n",
    "    - Tanımlayıcı istatistikler.\n",
    "    - Zaman serisi analizi.\n",
    "    - Korelasyon analizi.\n",
    "    - Regresyon analizi.\n",
    "    - Kümeleme (Clustering) ve sınıflandırma (Classification) yöntemleri.\n",
    "\n",
    "### Adım 3: Satış Trendlerinin Analizi\n",
    "- **Amaç**: Satışların zaman içindeki eğilimlerini anlamak.\n",
    "- **Yapılacaklar**:\n",
    "  - **Zaman Serisi Analizi**:\n",
    "    - Satış verilerinin zaman serisi olarak görselleştirilmesi.\n",
    "    - Mevsimsellik ve trendlerin analizi.\n",
    "    - Hareketli ortalamaların kullanılması.\n",
    "  - **Dönemsel Analiz**:\n",
    "    - Çeyrek bazında (QTR_ID) ve yıl bazında (YEAR_ID) satışların analizi.\n",
    "    - Ay bazında (MONTH_ID) satışların karşılaştırılması.\n",
    "  - **KPI (Key Performance Indicators) Belirleme**:\n",
    "    - Ortalama satış miktarı.\n",
    "    - Toplam satış geliri.\n",
    "    - En çok satan ürünler ve kategoriler.\n",
    "\n",
    "### Adım 4: Anlamlı İlişkilerin ve Korelasyonların Bulunması\n",
    "- **Amaç**: Veriler arasındaki anlamlı ilişkileri ve korelasyonları tespit etmek.\n",
    "- **Yapılacaklar**:\n",
    "  - **Korelasyon Analizi**:\n",
    "    - Satışlar ile fiyat, miktar, müşteri segmenti arasındaki ilişkilerin analizi.\n",
    "    - Korelasyon matrislerinin oluşturulması.\n",
    "  - **Regresyon Analizi**:\n",
    "    - Satışları etkileyen faktörlerin belirlenmesi.\n",
    "    - Regresyon modelleri ile satış tahminlerinin yapılması.\n",
    "  - **Segmentasyon ve Kümeleme**:\n",
    "    - Müşteri segmentlerinin belirlenmesi.\n",
    "    - Kümeleme algoritmaları kullanarak müşteri gruplarının oluşturulması.\n",
    "\n",
    "---"
   ]
  },
  {
   "cell_type": "markdown",
   "metadata": {},
   "source": [
    "### ADIM 1: Verilerin İncelenmesi"
   ]
  },
  {
   "cell_type": "code",
   "execution_count": 2,
   "metadata": {},
   "outputs": [],
   "source": [
    "import pandas as pd \n",
    "import seaborn as sns\n",
    "import matplotlib.pyplot as plt\n",
    "\n",
    "customers = pd.read_csv('../Database/customers.csv', sep=',', encoding='Latin-1')\n",
    "products = pd.read_csv('../Database/products.csv', sep=',', encoding='Latin-1')\n",
    "orders = pd.read_csv('../Database/orders.csv', sep=',', encoding='Latin-1')\n",
    "order_items = pd.read_csv('../Database/order_items.csv', sep=',', encoding='Latin-1')"
   ]
  },
  {
   "cell_type": "code",
   "execution_count": 6,
   "metadata": {},
   "outputs": [
    {
     "name": "stdout",
     "output_type": "stream",
     "text": [
      "==================================================\n",
      "              PHONE        id\n",
      "count  9.200000e+01  92.00000\n",
      "mean   2.641490e+10  46.50000\n",
      "std    1.105878e+11  26.70206\n",
      "min    2.555467e+06   1.00000\n",
      "25%    6.522356e+08  23.75000\n",
      "50%    2.125558e+09  46.50000\n",
      "75%    6.175558e+09  69.25000\n",
      "max    8.106634e+11  92.00000\n",
      "==================================================\n",
      "             MSRP\n",
      "count  109.000000\n",
      "mean    99.899083\n",
      "std     39.824603\n",
      "min     33.000000\n",
      "25%     68.000000\n",
      "50%     97.000000\n",
      "75%    122.000000\n",
      "max    214.000000\n",
      "==================================================\n",
      "        ORDERNUMBER      QTR_ID  customer_id\n",
      "count    698.000000  698.000000   698.000000\n",
      "mean   10261.785100    2.656160    40.818052\n",
      "std       92.866914    1.197486    25.324009\n",
      "min    10100.000000    1.000000     1.000000\n",
      "25%    10183.000000    2.000000    21.000000\n",
      "50%    10263.000000    3.000000    39.500000\n",
      "75%    10339.750000    4.000000    62.000000\n",
      "max    10425.000000    4.000000    92.000000\n",
      "==================================================\n",
      "        ORDERNUMBER  QUANTITYORDERED    PRICEEACH  ORDERLINENUMBER  \\\n",
      "count   2823.000000      2823.000000  2823.000000      2823.000000   \n",
      "mean   10258.725115        35.092809    83.658544         6.466171   \n",
      "std       92.085478         9.741443    20.174277         4.225841   \n",
      "min    10100.000000         6.000000    26.880000         1.000000   \n",
      "25%    10180.000000        27.000000    68.860000         3.000000   \n",
      "50%    10262.000000        35.000000    95.700000         6.000000   \n",
      "75%    10333.500000        43.000000   100.000000         9.000000   \n",
      "max    10425.000000        97.000000   100.000000        18.000000   \n",
      "\n",
      "             SALES  \n",
      "count  2823.000000  \n",
      "mean   2936.906408  \n",
      "std    1105.644284  \n",
      "min     482.130000  \n",
      "25%    2100.000000  \n",
      "50%    2800.000000  \n",
      "75%    3726.810000  \n",
      "max    9048.160000  \n",
      "==================================================\n"
     ]
    }
   ],
   "source": [
    "print(\"=\"*50)\n",
    "print(customers.describe())\n",
    "print(\"=\"*50)\n",
    "print(products.describe())\n",
    "print(\"=\"*50)\n",
    "print(orders.describe())\n",
    "print(\"=\"*50)\n",
    "print(order_items.describe())\n",
    "print(\"=\"*50)"
   ]
  },
  {
   "cell_type": "code",
   "execution_count": 10,
   "metadata": {},
   "outputs": [
    {
     "data": {
      "image/png": "[encoded data removed]",
      "text/plain": [
       "<Figure size 640x480 with 1 Axes>"
      ]
     },
     "metadata": {},
     "output_type": "display_data"
    }
   ],
   "source": [
    "sns.countplot(y='STATUS', data=orders)\n",
    "plt.show()"
   ]
  },
  {
   "cell_type": "markdown",
   "metadata": {},
   "source": [
    "### Adım 2: Analiz Yöntemlerinin Belirlenmesi\n",
    "\n",
    "1. **Hedeflerin Belirlenmesi**:\n",
    "    - Satış trendlerini analiz etme.\n",
    "    - Müşteri segmentasyon analizi.\n",
    "\n",
    "2. **Analiz Yöntemleri**:\n",
    "    - Zaman serisi analizi ile satış trendlerinin belirlenmesi.\n",
    "    - Korelasyon ve regresyon analizleri ile satışları etkileyen faktörlerin belirlenmesi.\n",
    "    - Kümeleme yöntemleri ile müşteri segmentasyon analizi."
   ]
  },
  {
   "cell_type": "markdown",
   "metadata": {},
   "source": [
    "### Adım 3: Satış Trendlerinin Analizi"
   ]
  },
  {
   "cell_type": "markdown",
   "metadata": {},
   "source": [
    "### Adım 4: Anlamlı İlişkilerin ve Korelasyonların Bulunması"
   ]
  }
 ],
 "metadata": {
  "kernelspec": {
   "display_name": "env",
   "language": "python",
   "name": "python3"
  },
  "language_info": {
   "codemirror_mode": {
    "name": "ipython",
    "version": 3
   },
   "file_extension": ".py",
   "mimetype": "text/x-python",
   "name": "python",
   "nbconvert_exporter": "python",
   "pygments_lexer": "ipython3",
   "version": "3.12.3"
  }
 },
 "nbformat": 4,
 "nbformat_minor": 2
}
