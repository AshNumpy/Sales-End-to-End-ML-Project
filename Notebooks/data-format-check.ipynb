{
 "cells": [
  {
   "cell_type": "markdown",
   "metadata": {},
   "source": [
    "## Customers"
   ]
  },
  {
   "cell_type": "code",
   "execution_count": 1,
   "metadata": {},
   "outputs": [
    {
     "data": {
      "text/html": [
       "<div>\n",
       "<style scoped>\n",
       "    .dataframe tbody tr th:only-of-type {\n",
       "        vertical-align: middle;\n",
       "    }\n",
       "\n",
       "    .dataframe tbody tr th {\n",
       "        vertical-align: top;\n",
       "    }\n",
       "\n",
       "    .dataframe thead th {\n",
       "        text-align: right;\n",
       "    }\n",
       "</style>\n",
       "<table border=\"1\" class=\"dataframe\">\n",
       "  <thead>\n",
       "    <tr style=\"text-align: right;\">\n",
       "      <th></th>\n",
       "      <th>CUSTOMERNAME</th>\n",
       "      <th>PHONE</th>\n",
       "      <th>ADDRESSLINE1</th>\n",
       "      <th>ADDRESSLINE2</th>\n",
       "      <th>CITY</th>\n",
       "      <th>STATE</th>\n",
       "      <th>POSTALCODE</th>\n",
       "      <th>COUNTRY</th>\n",
       "      <th>TERRITORY</th>\n",
       "      <th>CONTACTLASTNAME</th>\n",
       "      <th>CONTACTFIRSTNAME</th>\n",
       "      <th>id</th>\n",
       "    </tr>\n",
       "  </thead>\n",
       "  <tbody>\n",
       "    <tr>\n",
       "      <th>0</th>\n",
       "      <td>Land of Toys Inc.</td>\n",
       "      <td>2125557818</td>\n",
       "      <td>897 Long Airport Avenue</td>\n",
       "      <td>Bilinmiyor</td>\n",
       "      <td>NYC</td>\n",
       "      <td>NY</td>\n",
       "      <td>10022</td>\n",
       "      <td>USA</td>\n",
       "      <td>Bilinmiyor</td>\n",
       "      <td>Yu</td>\n",
       "      <td>Kwai</td>\n",
       "      <td>1</td>\n",
       "    </tr>\n",
       "    <tr>\n",
       "      <th>1</th>\n",
       "      <td>Reims Collectables</td>\n",
       "      <td>26.47.1555</td>\n",
       "      <td>59 rue de l'Abbaye</td>\n",
       "      <td>Bilinmiyor</td>\n",
       "      <td>Reims</td>\n",
       "      <td>Bilinmiyor</td>\n",
       "      <td>51100</td>\n",
       "      <td>France</td>\n",
       "      <td>EMEA</td>\n",
       "      <td>Henriot</td>\n",
       "      <td>Paul</td>\n",
       "      <td>2</td>\n",
       "    </tr>\n",
       "    <tr>\n",
       "      <th>2</th>\n",
       "      <td>Lyon Souveniers</td>\n",
       "      <td>+33 1 46 62 7555</td>\n",
       "      <td>27 rue du Colonel Pierre Avia</td>\n",
       "      <td>Bilinmiyor</td>\n",
       "      <td>Paris</td>\n",
       "      <td>Bilinmiyor</td>\n",
       "      <td>75508</td>\n",
       "      <td>France</td>\n",
       "      <td>EMEA</td>\n",
       "      <td>Da Cunha</td>\n",
       "      <td>Daniel</td>\n",
       "      <td>3</td>\n",
       "    </tr>\n",
       "  </tbody>\n",
       "</table>\n",
       "</div>"
      ],
      "text/plain": [
       "         CUSTOMERNAME             PHONE                   ADDRESSLINE1  \\\n",
       "0   Land of Toys Inc.        2125557818        897 Long Airport Avenue   \n",
       "1  Reims Collectables        26.47.1555             59 rue de l'Abbaye   \n",
       "2     Lyon Souveniers  +33 1 46 62 7555  27 rue du Colonel Pierre Avia   \n",
       "\n",
       "  ADDRESSLINE2   CITY       STATE POSTALCODE COUNTRY   TERRITORY  \\\n",
       "0   Bilinmiyor    NYC          NY      10022     USA  Bilinmiyor   \n",
       "1   Bilinmiyor  Reims  Bilinmiyor      51100  France        EMEA   \n",
       "2   Bilinmiyor  Paris  Bilinmiyor      75508  France        EMEA   \n",
       "\n",
       "  CONTACTLASTNAME CONTACTFIRSTNAME  id  \n",
       "0              Yu             Kwai   1  \n",
       "1         Henriot             Paul   2  \n",
       "2        Da Cunha           Daniel   3  "
      ]
     },
     "execution_count": 1,
     "metadata": {},
     "output_type": "execute_result"
    }
   ],
   "source": [
    "import pandas as pd\n",
    "\n",
    "df = pd.read_csv(\"../Database/customers.csv\")\n",
    "df.head(3)"
   ]
  },
  {
   "cell_type": "code",
   "execution_count": 2,
   "metadata": {},
   "outputs": [
    {
     "name": "stdout",
     "output_type": "stream",
     "text": [
      "<class 'pandas.core.frame.DataFrame'>\n",
      "RangeIndex: 92 entries, 0 to 91\n",
      "Data columns (total 12 columns):\n",
      " #   Column            Non-Null Count  Dtype \n",
      "---  ------            --------------  ----- \n",
      " 0   CUSTOMERNAME      92 non-null     object\n",
      " 1   PHONE             92 non-null     object\n",
      " 2   ADDRESSLINE1      92 non-null     object\n",
      " 3   ADDRESSLINE2      92 non-null     object\n",
      " 4   CITY              92 non-null     object\n",
      " 5   STATE             92 non-null     object\n",
      " 6   POSTALCODE        92 non-null     object\n",
      " 7   COUNTRY           92 non-null     object\n",
      " 8   TERRITORY         92 non-null     object\n",
      " 9   CONTACTLASTNAME   92 non-null     object\n",
      " 10  CONTACTFIRSTNAME  92 non-null     object\n",
      " 11  id                92 non-null     int64 \n",
      "dtypes: int64(1), object(11)\n",
      "memory usage: 8.8+ KB\n"
     ]
    }
   ],
   "source": [
    "df.info()"
   ]
  },
  {
   "cell_type": "code",
   "execution_count": 6,
   "metadata": {},
   "outputs": [
    {
     "name": "stdout",
     "output_type": "stream",
     "text": [
      "==================================================\n",
      "PHONE\n",
      "6175558555        2\n",
      "2125557818        1\n",
      "(198) 555-8888    1\n",
      "91.24.4555        1\n",
      "+63 2 555 3587    1\n",
      "                 ..\n",
      "2155554695        1\n",
      "61-7-3844-6555    1\n",
      "2125558493        1\n",
      "+65 221 7555      1\n",
      "6175558428        1\n",
      "Name: count, Length: 91, dtype: int64\n",
      "==================================================\n",
      "CITY\n",
      "NYC           5\n",
      "Brickhaven    3\n",
      "Madrid        3\n",
      "Paris         3\n",
      "Singapore     2\n",
      "             ..\n",
      "Nashua        1\n",
      "Reims         1\n",
      "Montreal      1\n",
      "Osaka         1\n",
      "Charleroi     1\n",
      "Name: count, Length: 73, dtype: int64\n",
      "==================================================\n",
      "STATE\n",
      "Bilinmiyor       46\n",
      "CA               11\n",
      "MA                9\n",
      "NY                6\n",
      "PA                3\n",
      "CT                3\n",
      "BC                2\n",
      "NSW               2\n",
      "Victoria          2\n",
      "NJ                1\n",
      "Queensland        1\n",
      "Tokyo             1\n",
      "NH                1\n",
      "Quebec            1\n",
      "Osaka             1\n",
      "Isle of Wight     1\n",
      "NV                1\n",
      "Name: count, dtype: int64\n",
      "==================================================\n",
      "POSTALCODE\n",
      "10022         5\n",
      "58339         3\n",
      "Bilinmiyor    3\n",
      "94217         3\n",
      "28023         2\n",
      "             ..\n",
      "2060          1\n",
      "51100         1\n",
      "530-0003      1\n",
      "24067         1\n",
      "B-6000        1\n",
      "Name: count, Length: 74, dtype: int64\n",
      "==================================================\n",
      "COUNTRY\n",
      "USA            35\n",
      "France         12\n",
      "Australia       5\n",
      "UK              5\n",
      "Spain           5\n",
      "Italy           3\n",
      "Norway          3\n",
      "Finland         3\n",
      "Germany         3\n",
      "Canada          3\n",
      "Belgium         2\n",
      "Denmark         2\n",
      "Singapore       2\n",
      "Japan           2\n",
      "Sweden          2\n",
      "Austria         2\n",
      "Philippines     1\n",
      "Switzerland     1\n",
      "Ireland         1\n",
      "Name: count, dtype: int64\n",
      "==================================================\n",
      "TERRITORY\n",
      "EMEA          44\n",
      "Bilinmiyor    38\n",
      "APAC           6\n",
      "Japan          4\n",
      "Name: count, dtype: int64\n"
     ]
    }
   ],
   "source": [
    "can_be_checked_list = ['PHONE', 'CITY', 'STATE', 'POSTALCODE', 'COUNTRY', 'TERRITORY']\n",
    "\n",
    "for col in can_be_checked_list:\n",
    "    print('='*50)\n",
    "    print(df[col].value_counts())"
   ]
  },
  {
   "cell_type": "code",
   "execution_count": 7,
   "metadata": {},
   "outputs": [
    {
     "data": {
      "text/plain": [
       "array(['2125557818', '26.47.1555', '+33 1 46 62 7555', '6265557265',\n",
       "       '6505551386', '6505556809', '20.16.1555', '+47 2267 3215',\n",
       "       '6505555787', '(1) 47.55.6555', '03 9520 4555', '2125551500',\n",
       "       '2015559350', '2035552570', '40.67.8555', '6175558555',\n",
       "       '90-224 8555', '07-98 9555', '2155551555', '6562-9555',\n",
       "       '+61 2 9495 8555', '5085552555', '(171) 555-2282',\n",
       "       '(91) 555 94 44', '0921-12 3555', '(91) 555 22 82', '+65 221 7555',\n",
       "       '2125558493', '61-7-3844-6555', '2155554695', '78.32.5555',\n",
       "       '(604) 555-3392', '3105553722', '6175555555', '2035559545',\n",
       "       '+81 3 3584 0555', '011-4988555', '0695-34 6555', '30.59.8555',\n",
       "       '4155551450', '6035558647', '02 9936 8555', '(514) 555-8054',\n",
       "       '+81 06 6342 5555', '2155559857', '40.32.2555', '9145554562',\n",
       "       '31 12 3555', '(171) 555-0297', '5085559555', '61.77.6555',\n",
       "       '(171) 555-7555', '(93) 203 4555', '2155554369', '7605558146',\n",
       "       '(02) 5554 67', '(604) 555-4555', '6175559555', '(198) 555-8888',\n",
       "       '981-443655', '4085553659', '(1) 42.34.2555', '7675-3555',\n",
       "       '6175552555', '+65 224 1555', '+63 2 555 3587', '91.24.4555',\n",
       "       '0221-5554327', '0897-034555', '0522-556555', '6175557555',\n",
       "       '+49 69 66 90 2555', '+358 9 8045 555', '2125557413',\n",
       "       '+353 1862 1555', '+34 913 728 555', '(171) 555-1555',\n",
       "       '86 21 3555', '2125551957', '3105552373', '(95) 555 82 82',\n",
       "       '4155554312', '88.60.1555', '7025551838', '+47 2212 1555',\n",
       "       '035-640555', '61-9-3844-6555', '2035554407', '+49 89 61 08 9555',\n",
       "       '(071) 23 67 2555', '6175558428'], dtype=object)"
      ]
     },
     "execution_count": 7,
     "metadata": {},
     "output_type": "execute_result"
    }
   ],
   "source": [
    "df['PHONE'].unique()"
   ]
  },
  {
   "cell_type": "code",
   "execution_count": 9,
   "metadata": {},
   "outputs": [
    {
     "data": {
      "text/plain": [
       "array(['2125557818', '26471555', '33146627555', '6265557265',\n",
       "       '6505551386', '6505556809', '20161555', '4722673215', '6505555787',\n",
       "       '147556555', '0395204555', '2125551500', '2015559350',\n",
       "       '2035552570', '40678555', '6175558555', '902248555', '07989555',\n",
       "       '2155551555', '65629555', '61294958555', '5085552555',\n",
       "       '1715552282', '915559444', '0921123555', '915552282', '652217555',\n",
       "       '2125558493', '61738446555', '2155554695', '78325555',\n",
       "       '6045553392', '3105553722', '6175555555', '2035559545',\n",
       "       '81335840555', '0114988555', '0695346555', '30598555',\n",
       "       '4155551450', '6035558647', '0299368555', '5145558054',\n",
       "       '810663425555', '2155559857', '40322555', '9145554562', '31123555',\n",
       "       '1715550297', '5085559555', '61776555', '1715557555', '932034555',\n",
       "       '2155554369', '7605558146', '02555467', '6045554555', '6175559555',\n",
       "       '1985558888', '981443655', '4085553659', '142342555', '76753555',\n",
       "       '6175552555', '652241555', '6325553587', '91244555', '02215554327',\n",
       "       '0897034555', '0522556555', '6175557555', '496966902555',\n",
       "       '35898045555', '2125557413', '35318621555', '34913728555',\n",
       "       '1715551555', '86213555', '2125551957', '3105552373', '955558282',\n",
       "       '4155554312', '88601555', '7025551838', '4722121555', '035640555',\n",
       "       '61938446555', '2035554407', '498961089555', '07123672555',\n",
       "       '6175558428'], dtype=object)"
      ]
     },
     "execution_count": 9,
     "metadata": {},
     "output_type": "execute_result"
    }
   ],
   "source": [
    "df['PHONE'] = df['PHONE'].replace({r'[\\+\\-\\(\\)\\.\\s\\/]': ''}, regex=True)\n",
    "df['PHONE'].unique()"
   ]
  },
  {
   "cell_type": "code",
   "execution_count": 10,
   "metadata": {},
   "outputs": [],
   "source": [
    "df.to_csv(\"../Database/customers.csv\", sep=\",\", encoding='Latin-1', index=False)"
   ]
  },
  {
   "cell_type": "markdown",
   "metadata": {},
   "source": [
    "## Products"
   ]
  },
  {
   "cell_type": "code",
   "execution_count": 11,
   "metadata": {},
   "outputs": [
    {
     "data": {
      "text/html": [
       "<div>\n",
       "<style scoped>\n",
       "    .dataframe tbody tr th:only-of-type {\n",
       "        vertical-align: middle;\n",
       "    }\n",
       "\n",
       "    .dataframe tbody tr th {\n",
       "        vertical-align: top;\n",
       "    }\n",
       "\n",
       "    .dataframe thead th {\n",
       "        text-align: right;\n",
       "    }\n",
       "</style>\n",
       "<table border=\"1\" class=\"dataframe\">\n",
       "  <thead>\n",
       "    <tr style=\"text-align: right;\">\n",
       "      <th></th>\n",
       "      <th>PRODUCTCODE</th>\n",
       "      <th>PRODUCTLINE</th>\n",
       "      <th>MSRP</th>\n",
       "    </tr>\n",
       "  </thead>\n",
       "  <tbody>\n",
       "    <tr>\n",
       "      <th>0</th>\n",
       "      <td>S10_1678</td>\n",
       "      <td>Motorcycles</td>\n",
       "      <td>95</td>\n",
       "    </tr>\n",
       "    <tr>\n",
       "      <th>1</th>\n",
       "      <td>S10_1949</td>\n",
       "      <td>Classic Cars</td>\n",
       "      <td>214</td>\n",
       "    </tr>\n",
       "    <tr>\n",
       "      <th>2</th>\n",
       "      <td>S10_2016</td>\n",
       "      <td>Motorcycles</td>\n",
       "      <td>118</td>\n",
       "    </tr>\n",
       "    <tr>\n",
       "      <th>3</th>\n",
       "      <td>S10_4698</td>\n",
       "      <td>Motorcycles</td>\n",
       "      <td>193</td>\n",
       "    </tr>\n",
       "    <tr>\n",
       "      <th>4</th>\n",
       "      <td>S10_4757</td>\n",
       "      <td>Classic Cars</td>\n",
       "      <td>136</td>\n",
       "    </tr>\n",
       "  </tbody>\n",
       "</table>\n",
       "</div>"
      ],
      "text/plain": [
       "  PRODUCTCODE   PRODUCTLINE  MSRP\n",
       "0    S10_1678   Motorcycles    95\n",
       "1    S10_1949  Classic Cars   214\n",
       "2    S10_2016   Motorcycles   118\n",
       "3    S10_4698   Motorcycles   193\n",
       "4    S10_4757  Classic Cars   136"
      ]
     },
     "execution_count": 11,
     "metadata": {},
     "output_type": "execute_result"
    }
   ],
   "source": [
    "df = pd.read_csv(\"../Database/products.csv\")\n",
    "df.head()"
   ]
  },
  {
   "cell_type": "code",
   "execution_count": 12,
   "metadata": {},
   "outputs": [
    {
     "name": "stdout",
     "output_type": "stream",
     "text": [
      "<class 'pandas.core.frame.DataFrame'>\n",
      "RangeIndex: 109 entries, 0 to 108\n",
      "Data columns (total 3 columns):\n",
      " #   Column       Non-Null Count  Dtype \n",
      "---  ------       --------------  ----- \n",
      " 0   PRODUCTCODE  109 non-null    object\n",
      " 1   PRODUCTLINE  109 non-null    object\n",
      " 2   MSRP         109 non-null    int64 \n",
      "dtypes: int64(1), object(2)\n",
      "memory usage: 2.7+ KB\n"
     ]
    }
   ],
   "source": [
    "df.info()"
   ]
  },
  {
   "cell_type": "markdown",
   "metadata": {},
   "source": [
    "## Orders"
   ]
  },
  {
   "cell_type": "code",
   "execution_count": 13,
   "metadata": {},
   "outputs": [
    {
     "data": {
      "text/html": [
       "<div>\n",
       "<style scoped>\n",
       "    .dataframe tbody tr th:only-of-type {\n",
       "        vertical-align: middle;\n",
       "    }\n",
       "\n",
       "    .dataframe tbody tr th {\n",
       "        vertical-align: top;\n",
       "    }\n",
       "\n",
       "    .dataframe thead th {\n",
       "        text-align: right;\n",
       "    }\n",
       "</style>\n",
       "<table border=\"1\" class=\"dataframe\">\n",
       "  <thead>\n",
       "    <tr style=\"text-align: right;\">\n",
       "      <th></th>\n",
       "      <th>ORDERNUMBER</th>\n",
       "      <th>ORDERDATE</th>\n",
       "      <th>STATUS</th>\n",
       "      <th>QTR_ID</th>\n",
       "      <th>MONTH_ID</th>\n",
       "      <th>YEAR_ID</th>\n",
       "      <th>DEALSIZE</th>\n",
       "      <th>customer_id</th>\n",
       "    </tr>\n",
       "  </thead>\n",
       "  <tbody>\n",
       "    <tr>\n",
       "      <th>0</th>\n",
       "      <td>10107</td>\n",
       "      <td>2/24/2003 0:00</td>\n",
       "      <td>Shipped</td>\n",
       "      <td>1</td>\n",
       "      <td>2</td>\n",
       "      <td>2003</td>\n",
       "      <td>Small</td>\n",
       "      <td>1</td>\n",
       "    </tr>\n",
       "    <tr>\n",
       "      <th>1</th>\n",
       "      <td>10121</td>\n",
       "      <td>5/7/2003 0:00</td>\n",
       "      <td>Shipped</td>\n",
       "      <td>2</td>\n",
       "      <td>5</td>\n",
       "      <td>2003</td>\n",
       "      <td>Small</td>\n",
       "      <td>2</td>\n",
       "    </tr>\n",
       "    <tr>\n",
       "      <th>2</th>\n",
       "      <td>10134</td>\n",
       "      <td>7/1/2003 0:00</td>\n",
       "      <td>Shipped</td>\n",
       "      <td>3</td>\n",
       "      <td>7</td>\n",
       "      <td>2003</td>\n",
       "      <td>Medium</td>\n",
       "      <td>3</td>\n",
       "    </tr>\n",
       "    <tr>\n",
       "      <th>3</th>\n",
       "      <td>10145</td>\n",
       "      <td>8/25/2003 0:00</td>\n",
       "      <td>Shipped</td>\n",
       "      <td>3</td>\n",
       "      <td>8</td>\n",
       "      <td>2003</td>\n",
       "      <td>Medium</td>\n",
       "      <td>4</td>\n",
       "    </tr>\n",
       "    <tr>\n",
       "      <th>4</th>\n",
       "      <td>10159</td>\n",
       "      <td>10/10/2003 0:00</td>\n",
       "      <td>Shipped</td>\n",
       "      <td>4</td>\n",
       "      <td>10</td>\n",
       "      <td>2003</td>\n",
       "      <td>Medium</td>\n",
       "      <td>5</td>\n",
       "    </tr>\n",
       "  </tbody>\n",
       "</table>\n",
       "</div>"
      ],
      "text/plain": [
       "   ORDERNUMBER        ORDERDATE   STATUS  QTR_ID  MONTH_ID  YEAR_ID DEALSIZE  \\\n",
       "0        10107   2/24/2003 0:00  Shipped       1         2     2003    Small   \n",
       "1        10121    5/7/2003 0:00  Shipped       2         5     2003    Small   \n",
       "2        10134    7/1/2003 0:00  Shipped       3         7     2003   Medium   \n",
       "3        10145   8/25/2003 0:00  Shipped       3         8     2003   Medium   \n",
       "4        10159  10/10/2003 0:00  Shipped       4        10     2003   Medium   \n",
       "\n",
       "   customer_id  \n",
       "0            1  \n",
       "1            2  \n",
       "2            3  \n",
       "3            4  \n",
       "4            5  "
      ]
     },
     "execution_count": 13,
     "metadata": {},
     "output_type": "execute_result"
    }
   ],
   "source": [
    "df = pd.read_csv(\"../Database/orders.csv\")\n",
    "df.head()"
   ]
  },
  {
   "cell_type": "code",
   "execution_count": 14,
   "metadata": {},
   "outputs": [
    {
     "name": "stdout",
     "output_type": "stream",
     "text": [
      "<class 'pandas.core.frame.DataFrame'>\n",
      "RangeIndex: 698 entries, 0 to 697\n",
      "Data columns (total 8 columns):\n",
      " #   Column       Non-Null Count  Dtype \n",
      "---  ------       --------------  ----- \n",
      " 0   ORDERNUMBER  698 non-null    int64 \n",
      " 1   ORDERDATE    698 non-null    object\n",
      " 2   STATUS       698 non-null    object\n",
      " 3   QTR_ID       698 non-null    int64 \n",
      " 4   MONTH_ID     698 non-null    int64 \n",
      " 5   YEAR_ID      698 non-null    int64 \n",
      " 6   DEALSIZE     698 non-null    object\n",
      " 7   customer_id  698 non-null    int64 \n",
      "dtypes: int64(5), object(3)\n",
      "memory usage: 43.8+ KB\n"
     ]
    }
   ],
   "source": [
    "df.info()"
   ]
  },
  {
   "cell_type": "code",
   "execution_count": 15,
   "metadata": {},
   "outputs": [
    {
     "data": {
      "text/html": [
       "<div>\n",
       "<style scoped>\n",
       "    .dataframe tbody tr th:only-of-type {\n",
       "        vertical-align: middle;\n",
       "    }\n",
       "\n",
       "    .dataframe tbody tr th {\n",
       "        vertical-align: top;\n",
       "    }\n",
       "\n",
       "    .dataframe thead th {\n",
       "        text-align: right;\n",
       "    }\n",
       "</style>\n",
       "<table border=\"1\" class=\"dataframe\">\n",
       "  <thead>\n",
       "    <tr style=\"text-align: right;\">\n",
       "      <th></th>\n",
       "      <th>ORDERNUMBER</th>\n",
       "      <th>ORDERDATE</th>\n",
       "      <th>STATUS</th>\n",
       "      <th>QTR_ID</th>\n",
       "      <th>MONTH_ID</th>\n",
       "      <th>YEAR_ID</th>\n",
       "      <th>DEALSIZE</th>\n",
       "      <th>customer_id</th>\n",
       "    </tr>\n",
       "  </thead>\n",
       "  <tbody>\n",
       "    <tr>\n",
       "      <th>0</th>\n",
       "      <td>10107</td>\n",
       "      <td>2003-02-24</td>\n",
       "      <td>Shipped</td>\n",
       "      <td>1</td>\n",
       "      <td>2</td>\n",
       "      <td>2003</td>\n",
       "      <td>Small</td>\n",
       "      <td>1</td>\n",
       "    </tr>\n",
       "    <tr>\n",
       "      <th>1</th>\n",
       "      <td>10121</td>\n",
       "      <td>2003-05-07</td>\n",
       "      <td>Shipped</td>\n",
       "      <td>2</td>\n",
       "      <td>5</td>\n",
       "      <td>2003</td>\n",
       "      <td>Small</td>\n",
       "      <td>2</td>\n",
       "    </tr>\n",
       "    <tr>\n",
       "      <th>2</th>\n",
       "      <td>10134</td>\n",
       "      <td>2003-07-01</td>\n",
       "      <td>Shipped</td>\n",
       "      <td>3</td>\n",
       "      <td>7</td>\n",
       "      <td>2003</td>\n",
       "      <td>Medium</td>\n",
       "      <td>3</td>\n",
       "    </tr>\n",
       "  </tbody>\n",
       "</table>\n",
       "</div>"
      ],
      "text/plain": [
       "   ORDERNUMBER  ORDERDATE   STATUS  QTR_ID  MONTH_ID  YEAR_ID DEALSIZE  \\\n",
       "0        10107 2003-02-24  Shipped       1         2     2003    Small   \n",
       "1        10121 2003-05-07  Shipped       2         5     2003    Small   \n",
       "2        10134 2003-07-01  Shipped       3         7     2003   Medium   \n",
       "\n",
       "   customer_id  \n",
       "0            1  \n",
       "1            2  \n",
       "2            3  "
      ]
     },
     "execution_count": 15,
     "metadata": {},
     "output_type": "execute_result"
    }
   ],
   "source": [
    "df['ORDERDATE'] = pd.to_datetime(df['ORDERDATE'])\n",
    "df.head(3)"
   ]
  },
  {
   "cell_type": "code",
   "execution_count": 16,
   "metadata": {},
   "outputs": [
    {
     "data": {
      "text/plain": [
       "STATUS\n",
       "Shipped       653\n",
       "In Process     12\n",
       "On Hold        10\n",
       "Resolved        9\n",
       "Cancelled       8\n",
       "Disputed        6\n",
       "Name: count, dtype: int64"
      ]
     },
     "execution_count": 16,
     "metadata": {},
     "output_type": "execute_result"
    }
   ],
   "source": [
    "df['STATUS'].value_counts()"
   ]
  },
  {
   "cell_type": "code",
   "execution_count": 17,
   "metadata": {},
   "outputs": [],
   "source": [
    "df.drop(['MONTH_ID', 'YEAR_ID'], axis=1, inplace=True)"
   ]
  },
  {
   "cell_type": "code",
   "execution_count": 18,
   "metadata": {},
   "outputs": [
    {
     "data": {
      "text/plain": [
       "DEALSIZE\n",
       "Medium    292\n",
       "Small     287\n",
       "Large     119\n",
       "Name: count, dtype: int64"
      ]
     },
     "execution_count": 18,
     "metadata": {},
     "output_type": "execute_result"
    }
   ],
   "source": [
    "df['DEALSIZE'].value_counts()"
   ]
  },
  {
   "cell_type": "code",
   "execution_count": 19,
   "metadata": {},
   "outputs": [],
   "source": [
    "df.to_csv(\"../Database/orders.csv\", sep=\",\", encoding='Latin-1', index=False)"
   ]
  },
  {
   "cell_type": "markdown",
   "metadata": {},
   "source": [
    "## Order Items"
   ]
  },
  {
   "cell_type": "code",
   "execution_count": 20,
   "metadata": {},
   "outputs": [
    {
     "data": {
      "text/html": [
       "<div>\n",
       "<style scoped>\n",
       "    .dataframe tbody tr th:only-of-type {\n",
       "        vertical-align: middle;\n",
       "    }\n",
       "\n",
       "    .dataframe tbody tr th {\n",
       "        vertical-align: top;\n",
       "    }\n",
       "\n",
       "    .dataframe thead th {\n",
       "        text-align: right;\n",
       "    }\n",
       "</style>\n",
       "<table border=\"1\" class=\"dataframe\">\n",
       "  <thead>\n",
       "    <tr style=\"text-align: right;\">\n",
       "      <th></th>\n",
       "      <th>ORDERNUMBER</th>\n",
       "      <th>PRODUCTCODE</th>\n",
       "      <th>QUANTITYORDERED</th>\n",
       "      <th>PRICEEACH</th>\n",
       "      <th>ORDERLINENUMBER</th>\n",
       "      <th>SALES</th>\n",
       "    </tr>\n",
       "  </thead>\n",
       "  <tbody>\n",
       "    <tr>\n",
       "      <th>0</th>\n",
       "      <td>10107</td>\n",
       "      <td>S10_1678</td>\n",
       "      <td>30</td>\n",
       "      <td>95.70</td>\n",
       "      <td>2</td>\n",
       "      <td>2871.00</td>\n",
       "    </tr>\n",
       "    <tr>\n",
       "      <th>1</th>\n",
       "      <td>10121</td>\n",
       "      <td>S10_1678</td>\n",
       "      <td>34</td>\n",
       "      <td>81.35</td>\n",
       "      <td>5</td>\n",
       "      <td>2765.90</td>\n",
       "    </tr>\n",
       "    <tr>\n",
       "      <th>2</th>\n",
       "      <td>10134</td>\n",
       "      <td>S10_1678</td>\n",
       "      <td>41</td>\n",
       "      <td>94.74</td>\n",
       "      <td>2</td>\n",
       "      <td>3884.34</td>\n",
       "    </tr>\n",
       "    <tr>\n",
       "      <th>3</th>\n",
       "      <td>10145</td>\n",
       "      <td>S10_1678</td>\n",
       "      <td>45</td>\n",
       "      <td>83.26</td>\n",
       "      <td>6</td>\n",
       "      <td>3746.70</td>\n",
       "    </tr>\n",
       "    <tr>\n",
       "      <th>4</th>\n",
       "      <td>10159</td>\n",
       "      <td>S10_1678</td>\n",
       "      <td>49</td>\n",
       "      <td>100.00</td>\n",
       "      <td>14</td>\n",
       "      <td>4900.00</td>\n",
       "    </tr>\n",
       "  </tbody>\n",
       "</table>\n",
       "</div>"
      ],
      "text/plain": [
       "   ORDERNUMBER PRODUCTCODE  QUANTITYORDERED  PRICEEACH  ORDERLINENUMBER  \\\n",
       "0        10107    S10_1678               30      95.70                2   \n",
       "1        10121    S10_1678               34      81.35                5   \n",
       "2        10134    S10_1678               41      94.74                2   \n",
       "3        10145    S10_1678               45      83.26                6   \n",
       "4        10159    S10_1678               49     100.00               14   \n",
       "\n",
       "     SALES  \n",
       "0  2871.00  \n",
       "1  2765.90  \n",
       "2  3884.34  \n",
       "3  3746.70  \n",
       "4  4900.00  "
      ]
     },
     "execution_count": 20,
     "metadata": {},
     "output_type": "execute_result"
    }
   ],
   "source": [
    "df = pd.read_csv(\"../Database/order_items.csv\")\n",
    "df.head()"
   ]
  },
  {
   "cell_type": "code",
   "execution_count": 21,
   "metadata": {},
   "outputs": [
    {
     "name": "stdout",
     "output_type": "stream",
     "text": [
      "<class 'pandas.core.frame.DataFrame'>\n",
      "RangeIndex: 2823 entries, 0 to 2822\n",
      "Data columns (total 6 columns):\n",
      " #   Column           Non-Null Count  Dtype  \n",
      "---  ------           --------------  -----  \n",
      " 0   ORDERNUMBER      2823 non-null   int64  \n",
      " 1   PRODUCTCODE      2823 non-null   object \n",
      " 2   QUANTITYORDERED  2823 non-null   int64  \n",
      " 3   PRICEEACH        2823 non-null   float64\n",
      " 4   ORDERLINENUMBER  2823 non-null   int64  \n",
      " 5   SALES            2823 non-null   float64\n",
      "dtypes: float64(2), int64(3), object(1)\n",
      "memory usage: 132.5+ KB\n"
     ]
    }
   ],
   "source": [
    "df.info()"
   ]
  }
 ],
 "metadata": {
  "kernelspec": {
   "display_name": "env",
   "language": "python",
   "name": "python3"
  },
  "language_info": {
   "codemirror_mode": {
    "name": "ipython",
    "version": 3
   },
   "file_extension": ".py",
   "mimetype": "text/x-python",
   "name": "python",
   "nbconvert_exporter": "python",
   "pygments_lexer": "ipython3",
   "version": "3.12.3"
  }
 },
 "nbformat": 4,
 "nbformat_minor": 2
}
