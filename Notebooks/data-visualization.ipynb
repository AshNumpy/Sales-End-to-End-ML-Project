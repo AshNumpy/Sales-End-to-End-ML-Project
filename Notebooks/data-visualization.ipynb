{
 "cells": [
  {
   "cell_type": "markdown",
   "metadata": {},
   "source": [
    "<span style=\"background-color:#4d648d; border-radius:10px; font-weight: bold; font-size:18px; color:#ffffff; box-shadow: 5px 7px 5px rgba(0, 0, 0, 0.5); padding: 5px 10px 5px 10px;\">🧭 Görselleştirme Haritası</span>\n",
    "\n",
    "Bu harita bizlere görselleştirme yapmadan önce veri setlerindeki alanlar ile çeşitli başlıklar ve sorular oluşturup bu soruların yanıtlarını görseller ile arama sürecinde yardımcı olacaktır.\n",
    "\n",
    "### 1. Sayfa: Genel Satış Analizi\n",
    "\n",
    "Bu sayfa, genel satış performansını analiz etmek için çeşitli görselleştirmeler içerecek.\n",
    "\n",
    "| Dashboard Sayfası | Grafik Türü | Kullanılacak Alanlar | Grafiğin Amacı | Hangi Sorulara Yanıt Veriyor |\n",
    "|---|---|---|---|---|\n",
    "| Genel Satış Analizi | Bar Chart | ORDERNUMBER, SALES | Her siparişin toplam satış gelirini göstermek | Hangi siparişler en yüksek geliri getirdi? |\n",
    "| Genel Satış Analizi | Line Chart | ORDERDATE, SALES | Zaman içinde satışların değişimini göstermek | Satışlar belirli dönemlerde artıyor mu? En yoğun satış dönemleri hangileri? |\n",
    "| Genel Satış Analizi | Pie Chart | DEALSIZE, SALES | Farklı sipariş büyüklüklerinin toplam satışa katkısını göstermek | Hangi sipariş büyüklükleri en fazla geliri getiriyor? |\n",
    "| Genel Satış Analizi | KPI | Toplam Satış, Ortalama Satış | Önemli performans göstergelerini vurgulamak | Toplam satış geliri nedir? Ortalama satış tutarı ne kadar? |\n",
    "\n",
    "### 2. Sayfa: Ürün Performansı\n",
    "\n",
    "Bu sayfa, ürünlerin satış performansını analiz etmek için çeşitli görselleştirmeler içerecek.\n",
    "\n",
    "| Dashboard Sayfası | Grafik Türü | Kullanılacak Alanlar | Grafiğin Amacı | Hangi Sorulara Yanıt Veriyor |\n",
    "|---|---|---|---|---|\n",
    "| Ürün Performansı | Bar Chart | PRODUCTCODE, SALES | Her ürünün toplam satış gelirini göstermek | Hangi ürünler en yüksek geliri getiriyor? |\n",
    "| Ürün Performansı | Scatter Plot | PRODUCTCODE, QUANTITYORDERED, PRICEEACH | Ürünlerin satış miktarını ve birim fiyatını analiz etmek | Hangi ürünler en çok satılıyor? Satış miktarı ve fiyat arasında bir ilişki var mı? |\n",
    "| Ürün Performansı | Heatmap | PRODUCTLINE, SALES | Ürün kategorilerine göre satış performansını göstermek | Hangi ürün kategorileri en fazla geliri getiriyor? |\n",
    "| Ürün Performansı | Histogram | MSRP | Ürünlerin fiyat dağılımını göstermek | Ürünlerin fiyat aralığı nedir? En yaygın fiyat aralığı hangisi? |\n",
    "\n",
    "### 3. Sayfa: Müşteri Analizi\n",
    "\n",
    "Bu sayfa, müşteri bazında satış performansını analiz etmek için çeşitli görselleştirmeler içerecek.\n",
    "\n",
    "| Dashboard Sayfası | Grafik Türü | Kullanılacak Alanlar | Grafiğin Amacı | Hangi Sorulara Yanıt Veriyor |\n",
    "|---|---|---|---|---|\n",
    "| Müşteri Analizi | Bar Chart | CUSTOMERNAME, SALES | Her müşterinin toplam satış gelirini göstermek | Hangi müşteriler en fazla geliri sağlıyor? |\n",
    "| Müşteri Analizi | Geo Map | COUNTRY, SALES | Satışların coğrafi dağılımını göstermek | Hangi bölgeler en fazla satışı gerçekleştiriyor? |\n",
    "| Müşteri Analizi | Scatter Plot | CUSTOMERNAME, ORDERNUMBER, SALES | Müşteri sadakatini ve tekrar eden siparişleri analiz etmek | Hangi müşteriler düzenli olarak sipariş veriyor ve yüksek gelir getiriyor? |\n",
    "| Müşteri Analizi | Pie Chart | TERRITORY, SALES | Müşterilerin bulunduğu bölgelerin satışa katkısını göstermek | Hangi bölgeler en fazla geliri sağlıyor? |\n",
    "\n",
    "### 4. Sayfa: Zaman Serisi ve Sipariş Analizi\n",
    "\n",
    "Bu sayfa, zaman serisi bazında ve sipariş durumlarına göre analizler içerecek.\n",
    "\n",
    "| Dashboard Sayfası | Grafik Türü | Kullanılacak Alanlar | Grafiğin Amacı | Hangi Sorulara Yanıt Veriyor |\n",
    "|---|---|---|---|---|\n",
    "| Zaman Serisi ve Sipariş Analizi | Line Chart | ORDERDATE, Order Count | Siparişlerin zaman içindeki değişimini göstermek | Siparişler belirli dönemlerde artıyor mu? En yoğun sipariş dönemleri hangileri? |\n",
    "| Zaman Serisi ve Sipariş Analizi | Bar Chart | STATUS, ORDERNUMBER | Farklı sipariş durumlarının sayısını göstermek | Siparişlerin ne kadarı gönderilmiş, iptal edilmiş veya beklemede? |\n",
    "| Zaman Serisi ve Sipariş Analizi | Histogram | DEALSIZE | Sipariş büyüklüklerinin dağılımını göstermek | Siparişlerin büyüklük dağılımı nasıl? En yaygın sipariş büyüklüğü nedir? |\n",
    "| Zaman Serisi ve Sipariş Analizi | KPI | Toplam Sipariş Sayısı, Ortalama Sipariş Değeri | Önemli performans göstergelerini vurgulamak | Toplam sipariş sayısı nedir? Ortalama sipariş değeri ne kadar? |"
   ]
  },
  {
   "cell_type": "markdown",
   "metadata": {},
   "source": [
    "<span style=\"background-color:#3D5A80; border-radius:10px; font-weight: bold; font-size:18px; color:#FFFFFF; box-shadow: 5px 7px 5px rgba(0, 0, 0, 0.5); padding: 5px 10px 5px 10px;\">Veri Setlerinin Yüklenmesi</span>"
   ]
  },
  {
   "cell_type": "code",
   "execution_count": 4,
   "metadata": {},
   "outputs": [],
   "source": [
    "import pandas as pd \n",
    "\n",
    "customers = pd.read_csv('../Database/customers.csv', sep=',', encoding='Latin-1')   \n",
    "orders = pd.read_csv('../Database/orders.csv', sep=',', encoding='Latin-1')\n",
    "orders['ORDERDATE'] = pd.to_datetime(orders['ORDERDATE'])\n",
    "order_items = pd.read_csv('../Database/order_items.csv', sep=',', encoding='Latin-1')\n",
    "products = pd.read_csv('../Database/products.csv', sep=',', encoding='Latin-1')"
   ]
  },
  {
   "cell_type": "code",
   "execution_count": 3,
   "metadata": {},
   "outputs": [],
   "source": [
    "# Renk paletinin ayarlanması\n",
    "colors = {\n",
    "    'primary-100': '#3F51B5',\n",
    "    'primary-200': '#757de8',\n",
    "    'primary-300': '#dedeff',\n",
    "    'accent-100': '#2196F3',\n",
    "    'accent-200': '#003f8f',\n",
    "    'text-100': '#333333',\n",
    "    'text-200': '#5c5c5c',\n",
    "    'bg-100': '#FFFFFF',\n",
    "    'bg-200': '#f5f5f5',\n",
    "    'bg-300': '#cccccc'\n",
    "}"
   ]
  },
  {
   "cell_type": "code",
   "execution_count": null,
   "metadata": {},
   "outputs": [],
   "source": []
  }
 ],
 "metadata": {
  "kernelspec": {
   "display_name": "env",
   "language": "python",
   "name": "python3"
  },
  "language_info": {
   "codemirror_mode": {
    "name": "ipython",
    "version": 3
   },
   "file_extension": ".py",
   "mimetype": "text/x-python",
   "name": "python",
   "nbconvert_exporter": "python",
   "pygments_lexer": "ipython3",
   "version": "3.12.3"
  }
 },
 "nbformat": 4,
 "nbformat_minor": 2
}
