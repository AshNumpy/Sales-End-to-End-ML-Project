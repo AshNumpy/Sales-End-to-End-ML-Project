{
 "cells": [
  {
   "cell_type": "markdown",
   "metadata": {},
   "source": [
    "<span style=\"background-color:#6495ED; border-radius:10px; font-weight: bold; font-size:18px; color:#FFFFFF; box-shadow: 5px 7px 5px rgba(0, 0, 0, 0.5); padding: 5px 10px 5px 10px;\"> 📉 Görselleştirme Haritası</span>\n",
    "\n",
    "Bu harita bizlere görselleştirme yapmadan önce veri setlerindeki alanlar ile çeşitli başlıklar ve sorular oluşturup bu soruların yanıtlarını görseller ile arama sürecinde yardımcı olacaktır.\n",
    "\n",
    "### 1. Sayfa: Genel Satış Analizi\n",
    "\n",
    "Bu sayfa, genel satış performansını analiz etmek için çeşitli görselleştirmeler içerecek.\n",
    "\n",
    "| Dashboard Sayfası | Grafik Türü | Kullanılacak Alanlar | Grafiğin Amacı | Hangi Sorulara Yanıt Veriyor |\n",
    "|---|---|---|---|---|\n",
    "| Genel Satış Analizi | Bar Chart | ORDERNUMBER, SALES | Her siparişin toplam satış gelirini göstermek | Hangi siparişler en yüksek geliri getirdi? |\n",
    "| Genel Satış Analizi | Line Chart | ORDERDATE, SALES | Zaman içinde satışların değişimini göstermek | Satışlar belirli dönemlerde artıyor mu? En yoğun satış dönemleri hangileri? |\n",
    "| Genel Satış Analizi | Pie Chart | DEALSIZE, SALES | Farklı sipariş büyüklüklerinin toplam satışa katkısını göstermek | Hangi sipariş büyüklükleri en fazla geliri getiriyor? |\n",
    "| Genel Satış Analizi | KPI | Toplam Satış, Ortalama Satış | Önemli performans göstergelerini vurgulamak | Toplam satış geliri nedir? Ortalama satış tutarı ne kadar? |\n",
    "\n",
    "### 2. Sayfa: Ürün Performansı\n",
    "\n",
    "Bu sayfa, ürünlerin satış performansını analiz etmek için çeşitli görselleştirmeler içerecek.\n",
    "\n",
    "| Dashboard Sayfası | Grafik Türü | Kullanılacak Alanlar | Grafiğin Amacı | Hangi Sorulara Yanıt Veriyor |\n",
    "|---|---|---|---|---|\n",
    "| Ürün Performansı | Bar Chart | PRODUCTCODE, SALES | Her ürünün toplam satış gelirini göstermek | Hangi ürünler en yüksek geliri getiriyor? |\n",
    "| Ürün Performansı | Scatter Plot | PRODUCTCODE, QUANTITYORDERED, PRICEEACH | Ürünlerin satış miktarını ve birim fiyatını analiz etmek | Hangi ürünler en çok satılıyor? Satış miktarı ve fiyat arasında bir ilişki var mı? |\n",
    "| Ürün Performansı | Heatmap | PRODUCTLINE, SALES | Ürün kategorilerine göre satış performansını göstermek | Hangi ürün kategorileri en fazla geliri getiriyor? |\n",
    "| Ürün Performansı | Histogram | MSRP | Ürünlerin fiyat dağılımını göstermek | Ürünlerin fiyat aralığı nedir? En yaygın fiyat aralığı hangisi? |\n",
    "\n",
    "### 3. Sayfa: Müşteri Analizi\n",
    "\n",
    "Bu sayfa, müşteri bazında satış performansını analiz etmek için çeşitli görselleştirmeler içerecek.\n",
    "\n",
    "| Dashboard Sayfası | Grafik Türü | Kullanılacak Alanlar | Grafiğin Amacı | Hangi Sorulara Yanıt Veriyor |\n",
    "|---|---|---|---|---|\n",
    "| Müşteri Analizi | Bar Chart | CUSTOMERNAME, SALES | Her müşterinin toplam satış gelirini göstermek | Hangi müşteriler en fazla geliri sağlıyor? |\n",
    "| Müşteri Analizi | Geo Map | COUNTRY, SALES | Satışların coğrafi dağılımını göstermek | Hangi bölgeler en fazla satışı gerçekleştiriyor? |\n",
    "| Müşteri Analizi | Scatter Plot | CUSTOMERNAME, ORDERNUMBER, SALES | Müşteri sadakatini ve tekrar eden siparişleri analiz etmek | Hangi müşteriler düzenli olarak sipariş veriyor ve yüksek gelir getiriyor? |\n",
    "| Müşteri Analizi | Pie Chart | TERRITORY, SALES | Müşterilerin bulunduğu bölgelerin satışa katkısını göstermek | Hangi bölgeler en fazla geliri sağlıyor? |\n",
    "\n",
    "### 4. Sayfa: Zaman Serisi ve Sipariş Analizi\n",
    "\n",
    "Bu sayfa, zaman serisi bazında ve sipariş durumlarına göre analizler içerecek.\n",
    "\n",
    "| Dashboard Sayfası | Grafik Türü | Kullanılacak Alanlar | Grafiğin Amacı | Hangi Sorulara Yanıt Veriyor |\n",
    "|---|---|---|---|---|\n",
    "| Zaman Serisi ve Sipariş Analizi | Line Chart | ORDERDATE, Order Count | Siparişlerin zaman içindeki değişimini göstermek | Siparişler belirli dönemlerde artıyor mu? En yoğun sipariş dönemleri hangileri? |\n",
    "| Zaman Serisi ve Sipariş Analizi | Bar Chart | STATUS, ORDERNUMBER | Farklı sipariş durumlarının sayısını göstermek | Siparişlerin ne kadarı gönderilmiş, iptal edilmiş veya beklemede? |\n",
    "| Zaman Serisi ve Sipariş Analizi | Histogram | DEALSIZE | Sipariş büyüklüklerinin dağılımını göstermek | Siparişlerin büyüklük dağılımı nasıl? En yaygın sipariş büyüklüğü nedir? |\n",
    "| Zaman Serisi ve Sipariş Analizi | KPI | Toplam Sipariş Sayısı, Ortalama Sipariş Değeri | Önemli performans göstergelerini vurgulamak | Toplam sipariş sayısı nedir? Ortalama sipariş değeri ne kadar? |"
   ]
  },
  {
   "cell_type": "code",
   "execution_count": null,
   "metadata": {},
   "outputs": [],
   "source": []
  }
 ],
 "metadata": {
  "language_info": {
   "name": "python"
  }
 },
 "nbformat": 4,
 "nbformat_minor": 2
}
