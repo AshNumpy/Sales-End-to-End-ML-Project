{
 "cells": [
  {
   "cell_type": "markdown",
   "metadata": {},
   "source": [
    "## Yol Haritası\n",
    "\n",
    "### Anormal Verilerin Tespit Edilmesi\n",
    "\n",
    "1.1 **İstatistiksel Yöntemlerle Tespit**\n",
    "   - Z-skoru, IQR (Interquartile Range) kullanarak anormal değerleri belirleme.\n",
    "   - Örneğin: Z-skoru 3'ten büyük veya küçük olan değerler anormal kabul edilebilir.\n",
    "\n",
    "1.2 **Görsel Yöntemlerle Tespit**\n",
    "   - Histogram, kutu grafikleri (box plot) ve dağılım grafikleri (scatter plot) kullanarak verilerdeki anormallikleri görsel olarak tespit etme.\n",
    "\n",
    "1.3 **Domain Bilgisi Kullanarak Tespit**\n",
    "   - Verilerin anlamlı olup olmadığını değerlendirmek için iş bilgisi ve deneyimi kullanma. Örneğin: Negatif yaş verileri.\n",
    "\n",
    "#### 2. Hatalı Verilerin Tespiti\n",
    "\n",
    "2.1 **Veri Türü Doğrulaması**\n",
    "   - Sütunların veri tiplerinin uygun olup olmadığını kontrol etme. Örneğin: Tarih formatında olması gereken bir sütunda string değerler bulunması.\n",
    "\n",
    "2.2 **İş Mantığı Kontrolü**\n",
    "   - İş kurallarına aykırı verileri tespit etme. Örneğin: Bir sipariş tarihi, teslim tarihinden sonra olamaz.\n",
    "\n",
    "2.3 **Benzer Veri Kümeleri ile Karşılaştırma**\n",
    "   - Aynı verisetinin farklı kaynaklarla tutarlılığını karşılaştırma. Örneğin: Aynı müşteri ID'sine sahip kayıtlar arasında tutarsızlıklar.\n",
    "\n",
    "#### 3. Anormal ve Hatalı Verilerin Düzeltilmesi\n",
    "\n",
    "3.1 **Eksik Verilerin Doldurulması**\n",
    "   - Mean, median, mode gibi istatistiksel yöntemler kullanarak eksik verileri doldurma.\n",
    "   - Domain bilgisine dayanarak uygun değerlerle eksik verileri doldurma.\n",
    "\n",
    "3.2 **Yanlış Verilerin Düzeltilmesi**\n",
    "   - Hatalı verileri doğru verilerle değiştirme. Örneğin: Yanlış yazılmış isimler veya hatalı tarih formatları.\n",
    "   - Veri türünü uygun formata çevirme. Örneğin: String olarak kaydedilmiş sayısal verileri integer veya float'a çevirme.\n",
    "\n",
    "3.3 **Outlier'ların İşlenmesi**\n",
    "   - Anormal değerleri ayıklama veya dönüştürme. Örneğin: Anormal derecede büyük veya küçük değerleri sınırlandırma.\n",
    "   - Veriye dayalı olarak outlier'ları normal değerlerle değiştirme."
   ]
  },
  {
   "cell_type": "code",
   "execution_count": 11,
   "metadata": {},
   "outputs": [],
   "source": [
    "import pandas as pd\n",
    "import numpy as np\n",
    "import matplotlib.pyplot as plt\n",
    "import seaborn as sns\n",
    "\n",
    "# Anormal Verilerin Tespiti\n",
    "# Z-Score yöntemiyle tespit\n",
    "def detect_outliers_zscore(data, threshold=3):\n",
    "    mean = np.mean(data)\n",
    "    std = np.std(data)\n",
    "    z_scores = [(y - mean) / std for y in data]\n",
    "    return np.where(np.abs(z_scores) > threshold)\n",
    "\n",
    "# IQR yöntemiyle tespit\n",
    "def detect_outliers_iqr(data):\n",
    "    Q1 = np.percentile(data, 25)\n",
    "    Q3 = np.percentile(data, 75)\n",
    "    IQR = Q3 - Q1\n",
    "    lower_bound = Q1 - 1.5 * IQR\n",
    "    upper_bound = Q3 + 1.5 * IQR\n",
    "    return np.where((data < lower_bound) | (data > upper_bound))\n",
    "\n",
    "# Görsel Yöntemlerle Tespit\n",
    "def plot_boxplot(data, column):\n",
    "    plt.figure(figsize=(8, 4))\n",
    "    sns.boxplot(x=data[column])\n",
    "    plt.title(f'Box plot of {column}')\n",
    "    plt.show()\n",
    "\n",
    "# Hatalı Verilerin Tespiti\n",
    "def validate_data_types(data, column, expected_type):\n",
    "    return data[~data[column].apply(lambda x: isinstance(x, expected_type))]\n",
    "\n",
    "# Eksik Verilerin Doldurulması\n",
    "def fill_missing_values(data, column, strategy='mean'):\n",
    "    if strategy == 'mean':\n",
    "        data[column].fillna(data[column].mean(), inplace=True)\n",
    "    elif strategy == 'median':\n",
    "        data[column].fillna(data[column].median(), inplace=True)\n",
    "    elif strategy == 'mode':\n",
    "        data[column].fillna(data[column].mode()[0], inplace=True)\n",
    "\n",
    "# Yanlış Verilerin Düzeltilmesi\n",
    "def correct_data(data, column, correction_function):\n",
    "    data[column] = data[column].apply(correction_function)\n",
    "\n",
    "# Outlier'ların İşlenmesi\n",
    "def handle_outliers(data, column, method='remove'):\n",
    "    if method == 'remove':\n",
    "        data = data[(np.abs(data[column] - data[column].mean()) <= (3 * data[column].std()))]\n",
    "    elif method == 'cap':\n",
    "        Q1 = data[column].quantile(0.25)\n",
    "        Q3 = data[column].quantile(0.75)\n",
    "        IQR = Q3 - Q1\n",
    "        lower_bound = Q1 - 1.5 * IQR\n",
    "        upper_bound = Q3 + 1.5 * IQR\n",
    "        data[column] = np.where(data[column] < lower_bound, lower_bound, data[column])\n",
    "        data[column] = np.where(data[column] > upper_bound, upper_bound, data[column])\n",
    "    return data"
   ]
  },
  {
   "cell_type": "markdown",
   "metadata": {},
   "source": [
    "### Örnek kullanımlar\n",
    "\n",
    "```Python\n",
    "df = pd.read_csv('data.csv')\n",
    "\n",
    "outliers_zscore = detect_outliers_zscore(df['column_name'])\n",
    "\n",
    "outliers_iqr = detect_outliers_iqr(df['column_name'])\n",
    "\n",
    "plot_boxplot(df, 'column_name')\n",
    "\n",
    "invalid_data = validate_data_types(df, 'column_name', expected_type=int)\n",
    "\n",
    "fill_missing_values(df, 'column_name', strategy='mean')\n",
    "\n",
    "correct_data(df, 'column_name', lambda x: x if x >= 0 else 0)\n",
    "\n",
    "df = handle_outliers(df, 'column_name', method='cap')\n",
    "```"
   ]
  },
  {
   "cell_type": "markdown",
   "metadata": {},
   "source": [
    "## Customers"
   ]
  },
  {
   "cell_type": "code",
   "execution_count": 1,
   "metadata": {},
   "outputs": [
    {
     "data": {
      "text/html": [
       "<div>\n",
       "<style scoped>\n",
       "    .dataframe tbody tr th:only-of-type {\n",
       "        vertical-align: middle;\n",
       "    }\n",
       "\n",
       "    .dataframe tbody tr th {\n",
       "        vertical-align: top;\n",
       "    }\n",
       "\n",
       "    .dataframe thead th {\n",
       "        text-align: right;\n",
       "    }\n",
       "</style>\n",
       "<table border=\"1\" class=\"dataframe\">\n",
       "  <thead>\n",
       "    <tr style=\"text-align: right;\">\n",
       "      <th></th>\n",
       "      <th>CUSTOMERNAME</th>\n",
       "      <th>PHONE</th>\n",
       "      <th>ADDRESSLINE1</th>\n",
       "      <th>ADDRESSLINE2</th>\n",
       "      <th>CITY</th>\n",
       "      <th>STATE</th>\n",
       "      <th>POSTALCODE</th>\n",
       "      <th>COUNTRY</th>\n",
       "      <th>TERRITORY</th>\n",
       "      <th>CONTACTLASTNAME</th>\n",
       "      <th>CONTACTFIRSTNAME</th>\n",
       "      <th>id</th>\n",
       "    </tr>\n",
       "  </thead>\n",
       "  <tbody>\n",
       "    <tr>\n",
       "      <th>0</th>\n",
       "      <td>Land of Toys Inc.</td>\n",
       "      <td>2125557818</td>\n",
       "      <td>897 Long Airport Avenue</td>\n",
       "      <td>Bilinmiyor</td>\n",
       "      <td>NYC</td>\n",
       "      <td>NY</td>\n",
       "      <td>10022</td>\n",
       "      <td>USA</td>\n",
       "      <td>Bilinmiyor</td>\n",
       "      <td>Yu</td>\n",
       "      <td>Kwai</td>\n",
       "      <td>1</td>\n",
       "    </tr>\n",
       "    <tr>\n",
       "      <th>1</th>\n",
       "      <td>Reims Collectables</td>\n",
       "      <td>26.47.1555</td>\n",
       "      <td>59 rue de l'Abbaye</td>\n",
       "      <td>Bilinmiyor</td>\n",
       "      <td>Reims</td>\n",
       "      <td>Bilinmiyor</td>\n",
       "      <td>51100</td>\n",
       "      <td>France</td>\n",
       "      <td>EMEA</td>\n",
       "      <td>Henriot</td>\n",
       "      <td>Paul</td>\n",
       "      <td>2</td>\n",
       "    </tr>\n",
       "    <tr>\n",
       "      <th>2</th>\n",
       "      <td>Lyon Souveniers</td>\n",
       "      <td>+33 1 46 62 7555</td>\n",
       "      <td>27 rue du Colonel Pierre Avia</td>\n",
       "      <td>Bilinmiyor</td>\n",
       "      <td>Paris</td>\n",
       "      <td>Bilinmiyor</td>\n",
       "      <td>75508</td>\n",
       "      <td>France</td>\n",
       "      <td>EMEA</td>\n",
       "      <td>Da Cunha</td>\n",
       "      <td>Daniel</td>\n",
       "      <td>3</td>\n",
       "    </tr>\n",
       "  </tbody>\n",
       "</table>\n",
       "</div>"
      ],
      "text/plain": [
       "         CUSTOMERNAME             PHONE                   ADDRESSLINE1  \\\n",
       "0   Land of Toys Inc.        2125557818        897 Long Airport Avenue   \n",
       "1  Reims Collectables        26.47.1555             59 rue de l'Abbaye   \n",
       "2     Lyon Souveniers  +33 1 46 62 7555  27 rue du Colonel Pierre Avia   \n",
       "\n",
       "  ADDRESSLINE2   CITY       STATE POSTALCODE COUNTRY   TERRITORY  \\\n",
       "0   Bilinmiyor    NYC          NY      10022     USA  Bilinmiyor   \n",
       "1   Bilinmiyor  Reims  Bilinmiyor      51100  France        EMEA   \n",
       "2   Bilinmiyor  Paris  Bilinmiyor      75508  France        EMEA   \n",
       "\n",
       "  CONTACTLASTNAME CONTACTFIRSTNAME  id  \n",
       "0              Yu             Kwai   1  \n",
       "1         Henriot             Paul   2  \n",
       "2        Da Cunha           Daniel   3  "
      ]
     },
     "execution_count": 1,
     "metadata": {},
     "output_type": "execute_result"
    }
   ],
   "source": [
    "import pandas as pd \n",
    "\n",
    "df = pd.read_csv(\"../Database/customers.csv\")\n",
    "df.head(3)"
   ]
  },
  {
   "cell_type": "markdown",
   "metadata": {},
   "source": [
    "Müşterilere ilişkin anormal veri tespit etme kısmı pas geçilecek zira her bilgi unique düzeyde. Verilerin ön işlenerek düzgün bir kalıba sokulması kısmı farklı bir task içerisinde tamamlanacak."
   ]
  },
  {
   "cell_type": "markdown",
   "metadata": {},
   "source": [
    "# Products"
   ]
  },
  {
   "cell_type": "code",
   "execution_count": 2,
   "metadata": {},
   "outputs": [
    {
     "data": {
      "text/html": [
       "<div>\n",
       "<style scoped>\n",
       "    .dataframe tbody tr th:only-of-type {\n",
       "        vertical-align: middle;\n",
       "    }\n",
       "\n",
       "    .dataframe tbody tr th {\n",
       "        vertical-align: top;\n",
       "    }\n",
       "\n",
       "    .dataframe thead th {\n",
       "        text-align: right;\n",
       "    }\n",
       "</style>\n",
       "<table border=\"1\" class=\"dataframe\">\n",
       "  <thead>\n",
       "    <tr style=\"text-align: right;\">\n",
       "      <th></th>\n",
       "      <th>PRODUCTCODE</th>\n",
       "      <th>PRODUCTLINE</th>\n",
       "      <th>MSRP</th>\n",
       "    </tr>\n",
       "  </thead>\n",
       "  <tbody>\n",
       "    <tr>\n",
       "      <th>0</th>\n",
       "      <td>S10_1678</td>\n",
       "      <td>Motorcycles</td>\n",
       "      <td>95</td>\n",
       "    </tr>\n",
       "    <tr>\n",
       "      <th>1</th>\n",
       "      <td>S10_1949</td>\n",
       "      <td>Classic Cars</td>\n",
       "      <td>214</td>\n",
       "    </tr>\n",
       "    <tr>\n",
       "      <th>2</th>\n",
       "      <td>S10_2016</td>\n",
       "      <td>Motorcycles</td>\n",
       "      <td>118</td>\n",
       "    </tr>\n",
       "  </tbody>\n",
       "</table>\n",
       "</div>"
      ],
      "text/plain": [
       "  PRODUCTCODE   PRODUCTLINE  MSRP\n",
       "0    S10_1678   Motorcycles    95\n",
       "1    S10_1949  Classic Cars   214\n",
       "2    S10_2016   Motorcycles   118"
      ]
     },
     "execution_count": 2,
     "metadata": {},
     "output_type": "execute_result"
    }
   ],
   "source": [
    "df = pd.read_csv(\"../Database/products.csv\")\n",
    "df.head(3)"
   ]
  },
  {
   "cell_type": "code",
   "execution_count": 12,
   "metadata": {},
   "outputs": [
    {
     "data": {
      "image/png": "[encoded data removed]",
      "text/plain": [
       "<Figure size 800x400 with 1 Axes>"
      ]
     },
     "metadata": {},
     "output_type": "display_data"
    }
   ],
   "source": [
    "plot_boxplot(df, \"MSRP\")"
   ]
  },
  {
   "cell_type": "code",
   "execution_count": 20,
   "metadata": {},
   "outputs": [
    {
     "name": "stdout",
     "output_type": "stream",
     "text": [
      "(array([1, 7]),)\n"
     ]
    },
    {
     "data": {
      "text/plain": [
       "1    214\n",
       "7    207\n",
       "Name: MSRP, dtype: int64"
      ]
     },
     "execution_count": 20,
     "metadata": {},
     "output_type": "execute_result"
    }
   ],
   "source": [
    "outliers = detect_outliers_iqr(df[\"MSRP\"])\n",
    "print(outliers)\n",
    "df[\"MSRP\"].iloc[outliers]"
   ]
  },
  {
   "cell_type": "markdown",
   "metadata": {},
   "source": [
    "## Orders"
   ]
  },
  {
   "cell_type": "code",
   "execution_count": 21,
   "metadata": {},
   "outputs": [
    {
     "data": {
      "text/html": [
       "<div>\n",
       "<style scoped>\n",
       "    .dataframe tbody tr th:only-of-type {\n",
       "        vertical-align: middle;\n",
       "    }\n",
       "\n",
       "    .dataframe tbody tr th {\n",
       "        vertical-align: top;\n",
       "    }\n",
       "\n",
       "    .dataframe thead th {\n",
       "        text-align: right;\n",
       "    }\n",
       "</style>\n",
       "<table border=\"1\" class=\"dataframe\">\n",
       "  <thead>\n",
       "    <tr style=\"text-align: right;\">\n",
       "      <th></th>\n",
       "      <th>ORDERNUMBER</th>\n",
       "      <th>ORDERDATE</th>\n",
       "      <th>STATUS</th>\n",
       "      <th>QTR_ID</th>\n",
       "      <th>MONTH_ID</th>\n",
       "      <th>YEAR_ID</th>\n",
       "      <th>DEALSIZE</th>\n",
       "      <th>customer_id</th>\n",
       "    </tr>\n",
       "  </thead>\n",
       "  <tbody>\n",
       "    <tr>\n",
       "      <th>0</th>\n",
       "      <td>10107</td>\n",
       "      <td>2/24/2003 0:00</td>\n",
       "      <td>Shipped</td>\n",
       "      <td>1</td>\n",
       "      <td>2</td>\n",
       "      <td>2003</td>\n",
       "      <td>Small</td>\n",
       "      <td>1</td>\n",
       "    </tr>\n",
       "    <tr>\n",
       "      <th>1</th>\n",
       "      <td>10121</td>\n",
       "      <td>5/7/2003 0:00</td>\n",
       "      <td>Shipped</td>\n",
       "      <td>2</td>\n",
       "      <td>5</td>\n",
       "      <td>2003</td>\n",
       "      <td>Small</td>\n",
       "      <td>2</td>\n",
       "    </tr>\n",
       "    <tr>\n",
       "      <th>2</th>\n",
       "      <td>10134</td>\n",
       "      <td>7/1/2003 0:00</td>\n",
       "      <td>Shipped</td>\n",
       "      <td>3</td>\n",
       "      <td>7</td>\n",
       "      <td>2003</td>\n",
       "      <td>Medium</td>\n",
       "      <td>3</td>\n",
       "    </tr>\n",
       "  </tbody>\n",
       "</table>\n",
       "</div>"
      ],
      "text/plain": [
       "   ORDERNUMBER       ORDERDATE   STATUS  QTR_ID  MONTH_ID  YEAR_ID DEALSIZE  \\\n",
       "0        10107  2/24/2003 0:00  Shipped       1         2     2003    Small   \n",
       "1        10121   5/7/2003 0:00  Shipped       2         5     2003    Small   \n",
       "2        10134   7/1/2003 0:00  Shipped       3         7     2003   Medium   \n",
       "\n",
       "   customer_id  \n",
       "0            1  \n",
       "1            2  \n",
       "2            3  "
      ]
     },
     "execution_count": 21,
     "metadata": {},
     "output_type": "execute_result"
    }
   ],
   "source": [
    "df = pd.read_csv(\"../Database/orders.csv\")\n",
    "df.head(3)"
   ]
  },
  {
   "cell_type": "markdown",
   "metadata": {},
   "source": [
    "## Order Items"
   ]
  },
  {
   "cell_type": "code",
   "execution_count": 22,
   "metadata": {},
   "outputs": [
    {
     "data": {
      "text/html": [
       "<div>\n",
       "<style scoped>\n",
       "    .dataframe tbody tr th:only-of-type {\n",
       "        vertical-align: middle;\n",
       "    }\n",
       "\n",
       "    .dataframe tbody tr th {\n",
       "        vertical-align: top;\n",
       "    }\n",
       "\n",
       "    .dataframe thead th {\n",
       "        text-align: right;\n",
       "    }\n",
       "</style>\n",
       "<table border=\"1\" class=\"dataframe\">\n",
       "  <thead>\n",
       "    <tr style=\"text-align: right;\">\n",
       "      <th></th>\n",
       "      <th>ORDERNUMBER</th>\n",
       "      <th>PRODUCTCODE</th>\n",
       "      <th>QUANTITYORDERED</th>\n",
       "      <th>PRICEEACH</th>\n",
       "      <th>ORDERLINENUMBER</th>\n",
       "      <th>SALES</th>\n",
       "    </tr>\n",
       "  </thead>\n",
       "  <tbody>\n",
       "    <tr>\n",
       "      <th>0</th>\n",
       "      <td>10107</td>\n",
       "      <td>S10_1678</td>\n",
       "      <td>30</td>\n",
       "      <td>95.70</td>\n",
       "      <td>2</td>\n",
       "      <td>2871.00</td>\n",
       "    </tr>\n",
       "    <tr>\n",
       "      <th>1</th>\n",
       "      <td>10121</td>\n",
       "      <td>S10_1678</td>\n",
       "      <td>34</td>\n",
       "      <td>81.35</td>\n",
       "      <td>5</td>\n",
       "      <td>2765.90</td>\n",
       "    </tr>\n",
       "    <tr>\n",
       "      <th>2</th>\n",
       "      <td>10134</td>\n",
       "      <td>S10_1678</td>\n",
       "      <td>41</td>\n",
       "      <td>94.74</td>\n",
       "      <td>2</td>\n",
       "      <td>3884.34</td>\n",
       "    </tr>\n",
       "  </tbody>\n",
       "</table>\n",
       "</div>"
      ],
      "text/plain": [
       "   ORDERNUMBER PRODUCTCODE  QUANTITYORDERED  PRICEEACH  ORDERLINENUMBER  \\\n",
       "0        10107    S10_1678               30      95.70                2   \n",
       "1        10121    S10_1678               34      81.35                5   \n",
       "2        10134    S10_1678               41      94.74                2   \n",
       "\n",
       "     SALES  \n",
       "0  2871.00  \n",
       "1  2765.90  \n",
       "2  3884.34  "
      ]
     },
     "execution_count": 22,
     "metadata": {},
     "output_type": "execute_result"
    }
   ],
   "source": [
    "df = pd.read_csv(\"../Database/order_items.csv\")\n",
    "df.head(3)"
   ]
  },
  {
   "cell_type": "code",
   "execution_count": 23,
   "metadata": {},
   "outputs": [
    {
     "data": {
      "image/png": "[encoded data removed]",
      "text/plain": [
       "<Figure size 800x400 with 1 Axes>"
      ]
     },
     "metadata": {},
     "output_type": "display_data"
    }
   ],
   "source": [
    "plot_boxplot(df, \"QUANTITYORDERED\")"
   ]
  },
  {
   "cell_type": "code",
   "execution_count": 24,
   "metadata": {},
   "outputs": [
    {
     "name": "stdout",
     "output_type": "stream",
     "text": [
      "(array([ 418,  598, 1666, 1714, 1995, 1996, 2586, 2689]),)\n"
     ]
    },
    {
     "data": {
      "text/plain": [
       "418     97\n",
       "598     76\n",
       "1666    70\n",
       "1714    76\n",
       "1995    76\n",
       "1996    70\n",
       "2586    85\n",
       "2689    77\n",
       "Name: QUANTITYORDERED, dtype: int64"
      ]
     },
     "execution_count": 24,
     "metadata": {},
     "output_type": "execute_result"
    }
   ],
   "source": [
    "outliers = detect_outliers_iqr(df[\"QUANTITYORDERED\"])\n",
    "print(outliers)\n",
    "df[\"QUANTITYORDERED\"].iloc[outliers]"
   ]
  },
  {
   "cell_type": "code",
   "execution_count": 25,
   "metadata": {},
   "outputs": [
    {
     "data": {
      "image/png": "[encoded data removed]",
      "text/plain": [
       "<Figure size 800x400 with 1 Axes>"
      ]
     },
     "metadata": {},
     "output_type": "display_data"
    }
   ],
   "source": [
    "plot_boxplot(df, \"PRICEEACH\")"
   ]
  },
  {
   "cell_type": "code",
   "execution_count": 26,
   "metadata": {},
   "outputs": [
    {
     "data": {
      "image/png": "[encoded data removed]",
      "text/plain": [
       "<Figure size 800x400 with 1 Axes>"
      ]
     },
     "metadata": {},
     "output_type": "display_data"
    }
   ],
   "source": [
    "plot_boxplot(df, \"SALES\")"
   ]
  },
  {
   "cell_type": "code",
   "execution_count": 27,
   "metadata": {},
   "outputs": [
    {
     "name": "stdout",
     "output_type": "stream",
     "text": [
      "(array([  30,   32,   35,   41,   43,   44,   50,   53,   81,   86,   87,\n",
      "         88,   90,   93,  104,  105,  131,  163,  164,  165,  174,  175,\n",
      "        186,  188,  189,  191,  194,  195,  197,  198,  201,  203,  211,\n",
      "        235,  239,  241,  243,  260,  264,  272,  290,  318,  319,  331,\n",
      "        418,  473,  497,  563,  593,  598,  663,  667,  698,  744,  840,\n",
      "        845, 1014, 1015, 1018, 1023, 1030, 1047, 1061, 1062, 1133, 1137,\n",
      "       1153, 1188, 1251, 1558, 1561, 1666, 1839, 1995, 1996, 2117, 2241,\n",
      "       2295, 2430, 2505, 2634]),)\n"
     ]
    },
    {
     "data": {
      "text/plain": [
       "30      10993.50\n",
       "32       8014.82\n",
       "35       9064.89\n",
       "41       8014.82\n",
       "43      10172.70\n",
       "          ...   \n",
       "2241     8844.12\n",
       "2295     8209.44\n",
       "2430     8977.05\n",
       "2505    10066.60\n",
       "2634     9558.80\n",
       "Name: SALES, Length: 81, dtype: float64"
      ]
     },
     "execution_count": 27,
     "metadata": {},
     "output_type": "execute_result"
    }
   ],
   "source": [
    "outliers = detect_outliers_iqr(df[\"SALES\"])\n",
    "print(outliers)\n",
    "df[\"SALES\"].iloc[outliers]"
   ]
  },
  {
   "cell_type": "code",
   "execution_count": 28,
   "metadata": {},
   "outputs": [],
   "source": [
    "df['CalculationTEST'] = df['QUANTITYORDERED'] * df['PRICEEACH']"
   ]
  },
  {
   "cell_type": "code",
   "execution_count": 33,
   "metadata": {},
   "outputs": [
    {
     "data": {
      "text/plain": [
       "0.6011335458731846"
      ]
     },
     "execution_count": 33,
     "metadata": {},
     "output_type": "execute_result"
    }
   ],
   "source": [
    "results = df['SALES'] == df['CalculationTEST']\n",
    "len(results[results == False])/len(df)"
   ]
  },
  {
   "cell_type": "code",
   "execution_count": 34,
   "metadata": {},
   "outputs": [
    {
     "data": {
      "image/png": "[encoded data removed]",
      "text/plain": [
       "<Figure size 800x400 with 1 Axes>"
      ]
     },
     "metadata": {},
     "output_type": "display_data"
    }
   ],
   "source": [
    "plot_boxplot(df, \"CalculationTEST\")"
   ]
  },
  {
   "cell_type": "code",
   "execution_count": 35,
   "metadata": {},
   "outputs": [
    {
     "name": "stdout",
     "output_type": "stream",
     "text": [
      "(array([  25,  104,  131,  264,  418,  598, 1188, 1666, 1714, 1995, 1996,\n",
      "       2586, 2689]),)\n"
     ]
    },
    {
     "data": {
      "text/plain": [
       "25      6600.00\n",
       "104     6600.00\n",
       "131     6400.00\n",
       "264     6600.00\n",
       "418     9048.16\n",
       "598     7600.00\n",
       "1188    6500.00\n",
       "1666    7000.00\n",
       "1714    7182.00\n",
       "1995    7600.00\n",
       "1996    7000.00\n",
       "2586    7543.75\n",
       "2689    7084.00\n",
       "Name: CalculationTEST, dtype: float64"
      ]
     },
     "execution_count": 35,
     "metadata": {},
     "output_type": "execute_result"
    }
   ],
   "source": [
    "outliers = detect_outliers_iqr(df[\"CalculationTEST\"])\n",
    "print(outliers)\n",
    "df[\"CalculationTEST\"].iloc[outliers]"
   ]
  },
  {
   "cell_type": "code",
   "execution_count": 36,
   "metadata": {},
   "outputs": [
    {
     "data": {
      "text/html": [
       "<div>\n",
       "<style scoped>\n",
       "    .dataframe tbody tr th:only-of-type {\n",
       "        vertical-align: middle;\n",
       "    }\n",
       "\n",
       "    .dataframe tbody tr th {\n",
       "        vertical-align: top;\n",
       "    }\n",
       "\n",
       "    .dataframe thead th {\n",
       "        text-align: right;\n",
       "    }\n",
       "</style>\n",
       "<table border=\"1\" class=\"dataframe\">\n",
       "  <thead>\n",
       "    <tr style=\"text-align: right;\">\n",
       "      <th></th>\n",
       "      <th>ORDERNUMBER</th>\n",
       "      <th>PRODUCTCODE</th>\n",
       "      <th>QUANTITYORDERED</th>\n",
       "      <th>PRICEEACH</th>\n",
       "      <th>ORDERLINENUMBER</th>\n",
       "      <th>SALES</th>\n",
       "    </tr>\n",
       "  </thead>\n",
       "  <tbody>\n",
       "    <tr>\n",
       "      <th>0</th>\n",
       "      <td>10107</td>\n",
       "      <td>S10_1678</td>\n",
       "      <td>30</td>\n",
       "      <td>95.70</td>\n",
       "      <td>2</td>\n",
       "      <td>2871.00</td>\n",
       "    </tr>\n",
       "    <tr>\n",
       "      <th>1</th>\n",
       "      <td>10121</td>\n",
       "      <td>S10_1678</td>\n",
       "      <td>34</td>\n",
       "      <td>81.35</td>\n",
       "      <td>5</td>\n",
       "      <td>2765.90</td>\n",
       "    </tr>\n",
       "    <tr>\n",
       "      <th>2</th>\n",
       "      <td>10134</td>\n",
       "      <td>S10_1678</td>\n",
       "      <td>41</td>\n",
       "      <td>94.74</td>\n",
       "      <td>2</td>\n",
       "      <td>3884.34</td>\n",
       "    </tr>\n",
       "  </tbody>\n",
       "</table>\n",
       "</div>"
      ],
      "text/plain": [
       "   ORDERNUMBER PRODUCTCODE  QUANTITYORDERED  PRICEEACH  ORDERLINENUMBER  \\\n",
       "0        10107    S10_1678               30      95.70                2   \n",
       "1        10121    S10_1678               34      81.35                5   \n",
       "2        10134    S10_1678               41      94.74                2   \n",
       "\n",
       "     SALES  \n",
       "0  2871.00  \n",
       "1  2765.90  \n",
       "2  3884.34  "
      ]
     },
     "execution_count": 36,
     "metadata": {},
     "output_type": "execute_result"
    }
   ],
   "source": [
    "df['SALES'] = df['CalculationTEST']\n",
    "df.drop(columns=['CalculationTEST'], inplace=True)\n",
    "df.head(3)"
   ]
  },
  {
   "cell_type": "code",
   "execution_count": 37,
   "metadata": {},
   "outputs": [],
   "source": [
    "df.to_csv(\"../Database/order_items.csv\", sep=\",\", encoding='Latin-1', index=False)"
   ]
  }
 ],
 "metadata": {
  "kernelspec": {
   "display_name": "env",
   "language": "python",
   "name": "python3"
  },
  "language_info": {
   "codemirror_mode": {
    "name": "ipython",
    "version": 3
   },
   "file_extension": ".py",
   "mimetype": "text/x-python",
   "name": "python",
   "nbconvert_exporter": "python",
   "pygments_lexer": "ipython3",
   "version": "3.12.3"
  }
 },
 "nbformat": 4,
 "nbformat_minor": 2
}
